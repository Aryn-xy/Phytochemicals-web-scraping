{
  "nbformat": 4,
  "nbformat_minor": 0,
  "metadata": {
    "colab": {
      "provenance": [],
      "include_colab_link": true
    },
    "kernelspec": {
      "name": "python3",
      "display_name": "Python 3"
    },
    "language_info": {
      "name": "python"
    }
  },
  "cells": [
    {
      "cell_type": "markdown",
      "metadata": {
        "id": "view-in-github",
        "colab_type": "text"
      },
      "source": [
        "<a href=\"https://colab.research.google.com/github/Aryn-xy/Phytochemicals-web-scraping/blob/Phytochemicals-web-scraping-(single-input)/Rosmarinus_officinalis_SMILES_scraping_py.ipynb\" target=\"_parent\"><img src=\"https://colab.research.google.com/assets/colab-badge.svg\" alt=\"Open In Colab\"/></a>"
      ]
    },
    {
      "cell_type": "code",
      "execution_count": null,
      "metadata": {
        "id": "gfDP0OoHG6hK"
      },
      "outputs": [],
      "source": [
        "library(httr)    # For making HTTP requests\n",
        "library(readr)   # For reading/writing CSV files\n",
        "\n",
        "data <- read_csv(\"Rosmarinus officinalis_phytochemicals(in) (1).csv\")\n",
        "\n",
        "# Define a function to get SMILES for a given phytochemical name\n",
        "get_smiles <- function(compound_name) {\n",
        "  name_encoded <- URLencode(compound_name)\n",
        "\n",
        "  url <- paste0(\"https://pubchem.ncbi.nlm.nih.gov/rest/pug/compound/name/\",\n",
        "                name_encoded,\n",
        "                \"/property/CanonicalSMILES/TXT\")\n",
        "\n",
        "  response <- GET(url)\n",
        "\n",
        "  if (response$status_code == 200) {\n",
        "    # Extract the SMILES text and trim any whitespace\n",
        "    smiles <- trimws(content(response, as = \"text\", encoding = \"UTF-8\"))\n",
        "    return(smiles)\n",
        "  } else {\n",
        "    return(NA)\n",
        "  }\n",
        "}\n",
        "\n",
        "# looping the function to each phytochemical name in the column\n",
        "data$SMILES <- sapply(data$`Phytochemical name`, get_smiles)\n",
        "\n",
        "write_csv(data, \"Rosmarinus_officinalis_phytochemicals_with_smiles.csv\")\n"
      ]
    }
  ]
}